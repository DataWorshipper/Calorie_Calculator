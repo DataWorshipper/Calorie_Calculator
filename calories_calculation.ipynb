{
 "cells": [
  {
   "cell_type": "code",
   "execution_count": 15,
   "metadata": {},
   "outputs": [
    {
     "name": "stdout",
     "output_type": "stream",
     "text": [
      "{'name': 'mango', 'calories': 'Only available for premium subscribers.', 'serving_size_g': 'Only available for premium subscribers.', 'fat_total_g': 0.4, 'fat_saturated_g': 0.1, 'protein_g': 'Only available for premium subscribers.', 'sodium_mg': 0, 'potassium_mg': 14, 'cholesterol_mg': 0, 'carbohydrates_total_g': 14.8, 'fiber_g': 1.6, 'sugar_g': 13.6}\n"
     ]
    }
   ],
   "source": [
    "import requests\n",
    "import json\n",
    "api_key=\"uTcpXk8HrKpe31UfvZs8Mg==8ofEmBLJjwJ9qCde\"\n",
    "query=\"mango\"\n",
    "api_url = 'https://api.api-ninjas.com/v1/nutrition?query={}'.format(query)\n",
    "response = requests.get(api_url, headers={'X-Api-Key': api_key})\n",
    "if response.status_code == requests.codes.ok:\n",
    "    nutrition=json.loads(response.text)\n",
    "    print(nutrition[0])\n",
    "else:\n",
    "    print(\"Error:\", response.status_code, response.text)"
   ]
  },
  {
   "cell_type": "code",
   "execution_count": null,
   "metadata": {},
   "outputs": [],
   "source": []
  }
 ],
 "metadata": {
  "kernelspec": {
   "display_name": "Python 3",
   "language": "python",
   "name": "python3"
  },
  "language_info": {
   "codemirror_mode": {
    "name": "ipython",
    "version": 3
   },
   "file_extension": ".py",
   "mimetype": "text/x-python",
   "name": "python",
   "nbconvert_exporter": "python",
   "pygments_lexer": "ipython3",
   "version": "3.9.19"
  }
 },
 "nbformat": 4,
 "nbformat_minor": 2
}
